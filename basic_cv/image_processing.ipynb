{
 "cells": [
  {
   "cell_type": "markdown",
   "metadata": {},
   "source": [
    "**drowing on image**"
   ]
  },
  {
   "cell_type": "code",
   "execution_count": 1,
   "metadata": {},
   "outputs": [],
   "source": [
    "import cv2 as cv\n",
    "import numpy as np\n",
    "blanck=np.zeros((500,500,3),dtype='uint8')\n",
    "img=cv.imread('picture\\Screenshot (70).png')\n",
    "# cv.imshow('black',blanck)\n",
    "blanck[200:205,200:300]=0,0,200\n",
    "# cv.imshow('colour',blanck)\n",
    "cv.circle(blanck,(250,250),100,(0,0,200),thickness=2)\n",
    "# cv.imshow(\"circle\",blanck)\n",
    "gray=cv.cvtColor(img, cv.COLOR_BGRA2GRAY)\n",
    "cv.imshow(\"gray\",gray)\n",
    "blur=cv.GaussianBlur(img,(9,9),23)\n",
    "cv.imshow(\"blur\",blur)\n",
    "img_cr=img[200:300,300:400]\n",
    "cv.imshow('img_cr',img_cr)\n",
    "cv.waitKey(0)"
   ]
  },
  {
   "cell_type": "markdown",
   "metadata": {},
   "source": [
    "**read**"
   ]
  },
  {
   "cell_type": "code",
   "execution_count": null,
   "metadata": {},
   "outputs": [],
   "source": [
    "import cv2 as cv\n",
    "#img=cv.imread('picture\\Screenshot (70).png')\n",
    "#cv.imshow('Screenshot (70).png',img)\n",
    "video=cv.VideoCapture('../picture/yt1s.com - Just How Fast Night Changes  shorts.mp4')\n",
    "while(True):\n",
    "    isTrue,read=video.read()\n",
    "    cv.imshow(\"Video\",read)\n",
    "    resized=cv.resize(read,(int(read.shape[1]*0.5),int(read.shape[0]*0.5)),interpolation=cv.INTER_AREA)\n",
    "    cv.imshow(\"resized\",resized)\n",
    "    if(cv.waitKey(20) & 0xFF==ord('d')):\n",
    "        break\n",
    "\n",
    "video.release()\n",
    "cv.destroyAllWindows()"
   ]
  }
 ],
 "metadata": {
  "kernelspec": {
   "display_name": "base",
   "language": "python",
   "name": "python3"
  },
  "language_info": {
   "codemirror_mode": {
    "name": "ipython",
    "version": 3
   },
   "file_extension": ".py",
   "mimetype": "text/x-python",
   "name": "python",
   "nbconvert_exporter": "python",
   "pygments_lexer": "ipython3",
   "version": "3.9.12"
  },
  "orig_nbformat": 4
 },
 "nbformat": 4,
 "nbformat_minor": 2
}
